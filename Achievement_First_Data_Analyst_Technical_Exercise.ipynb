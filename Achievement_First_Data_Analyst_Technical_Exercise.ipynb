{
  "nbformat": 4,
  "nbformat_minor": 0,
  "metadata": {
    "colab": {
      "name": "Achievement First Data Analyst Technical Exercise",
      "provenance": [],
      "authorship_tag": "ABX9TyMpxqlsx4jII0fE58M3oK7D",
      "include_colab_link": true
    },
    "kernelspec": {
      "name": "python3",
      "display_name": "Python 3"
    },
    "language_info": {
      "name": "python"
    }
  },
  "cells": [
    {
      "cell_type": "markdown",
      "metadata": {
        "id": "view-in-github",
        "colab_type": "text"
      },
      "source": [
        "<a href=\"https://colab.research.google.com/github/tarik611656/coursera/blob/main/Achievement_First_Data_Analyst_Technical_Exercise.ipynb\" target=\"_parent\"><img src=\"https://colab.research.google.com/assets/colab-badge.svg\" alt=\"Open In Colab\"/></a>"
      ]
    },
    {
      "cell_type": "code",
      "metadata": {
        "colab": {
          "resources": {
            "http://localhost:8080/nbextensions/google.colab/files.js": {
              "data": "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",
              "ok": true,
              "headers": [
                [
                  "content-type",
                  "application/javascript"
                ]
              ],
              "status": 200,
              "status_text": ""
            }
          },
          "base_uri": "https://localhost:8080/",
          "height": 73
        },
        "id": "h1eNkRG076ev",
        "outputId": "0b17a1b7-5867-4bb5-b205-b670c21d0dce"
      },
      "source": [
        "\n",
        "from google.colab import files\n",
        "uploaded = files.upload()"
      ],
      "execution_count": 206,
      "outputs": [
        {
          "output_type": "display_data",
          "data": {
            "text/html": [
              "\n",
              "     <input type=\"file\" id=\"files-9129cd20-6e3a-41c1-ad71-93f08d854880\" name=\"files[]\" multiple disabled\n",
              "        style=\"border:none\" />\n",
              "     <output id=\"result-9129cd20-6e3a-41c1-ad71-93f08d854880\">\n",
              "      Upload widget is only available when the cell has been executed in the\n",
              "      current browser session. Please rerun this cell to enable.\n",
              "      </output>\n",
              "      <script src=\"/nbextensions/google.colab/files.js\"></script> "
            ],
            "text/plain": [
              "<IPython.core.display.HTML object>"
            ]
          },
          "metadata": {
            "tags": []
          }
        },
        {
          "output_type": "stream",
          "text": [
            "Saving F&P Sample Data Set.csv to F&P Sample Data Set (1).csv\n"
          ],
          "name": "stdout"
        }
      ]
    },
    {
      "cell_type": "code",
      "metadata": {
        "colab": {
          "base_uri": "https://localhost:8080/"
        },
        "id": "_Ng8kt8X-a9p",
        "outputId": "9f4ddb8b-cbf4-4649-e687-ba58f84c0a69"
      },
      "source": [
        "import pandas as pd\n",
        "import io\n",
        "  \n",
        "data = pd.read_csv(io.BytesIO(uploaded['F&P Sample Data Set.csv']))\n",
        "print(data)"
      ],
      "execution_count": 207,
      "outputs": [
        {
          "output_type": "stream",
          "text": [
            "     Student ID                  School Name  ... Unnamed: 24  Unnamed: 25\n",
            "0    10000001.0       Bushwick Middle School  ...         NaN          NaN\n",
            "1    10000002.0       Bushwick Middle School  ...         NaN          NaN\n",
            "2    10000003.0  Crown Heights Middle School  ...         NaN          NaN\n",
            "3    10000004.0       Bushwick Middle School  ...         NaN          NaN\n",
            "4    10000005.0       Bushwick Middle School  ...         NaN          NaN\n",
            "..          ...                          ...  ...         ...          ...\n",
            "994         NaN                          NaN  ...         NaN          NaN\n",
            "995         NaN                          NaN  ...         NaN          NaN\n",
            "996         NaN                          NaN  ...         NaN          NaN\n",
            "997         NaN                          NaN  ...         NaN          NaN\n",
            "998         NaN                          NaN  ...         NaN          NaN\n",
            "\n",
            "[999 rows x 26 columns]\n"
          ],
          "name": "stdout"
        }
      ]
    },
    {
      "cell_type": "code",
      "metadata": {
        "colab": {
          "base_uri": "https://localhost:8080/"
        },
        "id": "YcoKjTf0AgBD",
        "outputId": "37e08175-6a3a-4788-96f3-69ace7b69f98"
      },
      "source": [
        "data.info()"
      ],
      "execution_count": 208,
      "outputs": [
        {
          "output_type": "stream",
          "text": [
            "<class 'pandas.core.frame.DataFrame'>\n",
            "RangeIndex: 999 entries, 0 to 998\n",
            "Data columns (total 26 columns):\n",
            " #   Column         Non-Null Count  Dtype  \n",
            "---  ------         --------------  -----  \n",
            " 0   Student ID     376 non-null    float64\n",
            " 1   School Name    376 non-null    object \n",
            " 2   Grade Level    376 non-null    object \n",
            " 3   BOY F&P Score  279 non-null    float64\n",
            " 4   EOY F&P Score  366 non-null    float64\n",
            " 5   Unnamed: 5     0 non-null      float64\n",
            " 6   Unnamed: 6     0 non-null      float64\n",
            " 7   Unnamed: 7     0 non-null      float64\n",
            " 8   Unnamed: 8     0 non-null      float64\n",
            " 9   Unnamed: 9     0 non-null      float64\n",
            " 10  Unnamed: 10    0 non-null      float64\n",
            " 11  Unnamed: 11    0 non-null      float64\n",
            " 12  Unnamed: 12    0 non-null      float64\n",
            " 13  Unnamed: 13    0 non-null      float64\n",
            " 14  Unnamed: 14    0 non-null      float64\n",
            " 15  Unnamed: 15    0 non-null      float64\n",
            " 16  Unnamed: 16    0 non-null      float64\n",
            " 17  Unnamed: 17    0 non-null      float64\n",
            " 18  Unnamed: 18    0 non-null      float64\n",
            " 19  Unnamed: 19    0 non-null      float64\n",
            " 20  Unnamed: 20    0 non-null      float64\n",
            " 21  Unnamed: 21    0 non-null      float64\n",
            " 22  Unnamed: 22    0 non-null      float64\n",
            " 23  Unnamed: 23    0 non-null      float64\n",
            " 24  Unnamed: 24    0 non-null      float64\n",
            " 25  Unnamed: 25    0 non-null      float64\n",
            "dtypes: float64(24), object(2)\n",
            "memory usage: 203.0+ KB\n"
          ],
          "name": "stdout"
        }
      ]
    },
    {
      "cell_type": "code",
      "metadata": {
        "colab": {
          "base_uri": "https://localhost:8080/"
        },
        "id": "MkqYvbz6F2or",
        "outputId": "90aa140f-4850-4358-9c74-06e8170c9904"
      },
      "source": [
        "v1 = data.drop(columns=data.columns[5:26])\n",
        "v2 = v1.drop(labels=range(376,999), axis=0)\n",
        "print(v2)"
      ],
      "execution_count": 209,
      "outputs": [
        {
          "output_type": "stream",
          "text": [
            "     Student ID                  School Name  ... BOY F&P Score  EOY F&P Score\n",
            "0    10000001.0       Bushwick Middle School  ...          11.0           16.0\n",
            "1    10000002.0       Bushwick Middle School  ...          11.0           16.0\n",
            "2    10000003.0  Crown Heights Middle School  ...          11.0           16.0\n",
            "3    10000004.0       Bushwick Middle School  ...          11.0           16.0\n",
            "4    10000005.0       Bushwick Middle School  ...          11.0           14.0\n",
            "..          ...                          ...  ...           ...            ...\n",
            "371  10000371.0       Bushwick Middle School  ...          10.0           16.0\n",
            "372  10000372.0       Bushwick Middle School  ...           NaN           15.0\n",
            "373  10000373.0       Bushwick Middle School  ...           NaN           18.0\n",
            "374  10000374.0  Crown Heights Middle School  ...           NaN           19.0\n",
            "375  10000375.0  Crown Heights Middle School  ...           NaN           21.0\n",
            "\n",
            "[376 rows x 5 columns]\n"
          ],
          "name": "stdout"
        }
      ]
    },
    {
      "cell_type": "code",
      "metadata": {
        "colab": {
          "base_uri": "https://localhost:8080/"
        },
        "id": "8GHSVQjRJMr5",
        "outputId": "6876884a-7711-4fe3-beab-a1dd7a92272b"
      },
      "source": [
        "v2.nunique()"
      ],
      "execution_count": 210,
      "outputs": [
        {
          "output_type": "execute_result",
          "data": {
            "text/plain": [
              "Student ID       375\n",
              "School Name        4\n",
              "Grade Level        4\n",
              "BOY F&P Score     16\n",
              "EOY F&P Score     16\n",
              "dtype: int64"
            ]
          },
          "metadata": {
            "tags": []
          },
          "execution_count": 210
        }
      ]
    },
    {
      "cell_type": "code",
      "metadata": {
        "colab": {
          "base_uri": "https://localhost:8080/",
          "height": 81
        },
        "id": "LjNlkAa1MXTQ",
        "outputId": "7bf31918-a3e6-409c-84be-3f988e715c65"
      },
      "source": [
        "duplicate = v2[v2.duplicated()]\n",
        "duplicate"
      ],
      "execution_count": 211,
      "outputs": [
        {
          "output_type": "execute_result",
          "data": {
            "text/html": [
              "<div>\n",
              "<style scoped>\n",
              "    .dataframe tbody tr th:only-of-type {\n",
              "        vertical-align: middle;\n",
              "    }\n",
              "\n",
              "    .dataframe tbody tr th {\n",
              "        vertical-align: top;\n",
              "    }\n",
              "\n",
              "    .dataframe thead th {\n",
              "        text-align: right;\n",
              "    }\n",
              "</style>\n",
              "<table border=\"1\" class=\"dataframe\">\n",
              "  <thead>\n",
              "    <tr style=\"text-align: right;\">\n",
              "      <th></th>\n",
              "      <th>Student ID</th>\n",
              "      <th>School Name</th>\n",
              "      <th>Grade Level</th>\n",
              "      <th>BOY F&amp;P Score</th>\n",
              "      <th>EOY F&amp;P Score</th>\n",
              "    </tr>\n",
              "  </thead>\n",
              "  <tbody>\n",
              "    <tr>\n",
              "      <th>269</th>\n",
              "      <td>10000269.0</td>\n",
              "      <td>Bushwick Middle School</td>\n",
              "      <td>6</td>\n",
              "      <td>11.0</td>\n",
              "      <td>18.0</td>\n",
              "    </tr>\n",
              "  </tbody>\n",
              "</table>\n",
              "</div>"
            ],
            "text/plain": [
              "     Student ID             School Name  ... BOY F&P Score  EOY F&P Score\n",
              "269  10000269.0  Bushwick Middle School  ...          11.0           18.0\n",
              "\n",
              "[1 rows x 5 columns]"
            ]
          },
          "metadata": {
            "tags": []
          },
          "execution_count": 211
        }
      ]
    },
    {
      "cell_type": "code",
      "metadata": {
        "colab": {
          "base_uri": "https://localhost:8080/"
        },
        "id": "EtgeKvPuM1Gk",
        "outputId": "8acae3f4-fae2-4708-ed96-99448d214a41"
      },
      "source": [
        "v3 = v2.drop(labels=269, axis=0)\n",
        "v3['School Name'].unique()"
      ],
      "execution_count": 212,
      "outputs": [
        {
          "output_type": "execute_result",
          "data": {
            "text/plain": [
              "array(['Bushwick Middle School', 'Crown Heights Middle School',\n",
              "       'Bushwick MS', 'Crown Hghts Middle School'], dtype=object)"
            ]
          },
          "metadata": {
            "tags": []
          },
          "execution_count": 212
        }
      ]
    },
    {
      "cell_type": "code",
      "metadata": {
        "colab": {
          "base_uri": "https://localhost:8080/"
        },
        "id": "-BJoegIZN4X9",
        "outputId": "93915cce-81f2-4581-a894-5c908e6a77e9"
      },
      "source": [
        "v4 = v3.replace('Bushwick MS', 'Bushwick Middle School')\n",
        "v5 = v4.replace('Crown Hghts Middle School', 'Crown Heights Middle School')\n",
        "v5.nunique()"
      ],
      "execution_count": 213,
      "outputs": [
        {
          "output_type": "execute_result",
          "data": {
            "text/plain": [
              "Student ID       375\n",
              "School Name        2\n",
              "Grade Level        4\n",
              "BOY F&P Score     16\n",
              "EOY F&P Score     16\n",
              "dtype: int64"
            ]
          },
          "metadata": {
            "tags": []
          },
          "execution_count": 213
        }
      ]
    },
    {
      "cell_type": "code",
      "metadata": {
        "colab": {
          "base_uri": "https://localhost:8080/"
        },
        "id": "mNFKOWegPigR",
        "outputId": "fbe38ff9-30ba-477a-eee9-697bca8985c9"
      },
      "source": [
        "v5['Grade Level'].unique()"
      ],
      "execution_count": 214,
      "outputs": [
        {
          "output_type": "execute_result",
          "data": {
            "text/plain": [
              "array(['5', '6', '5th', '6th'], dtype=object)"
            ]
          },
          "metadata": {
            "tags": []
          },
          "execution_count": 214
        }
      ]
    },
    {
      "cell_type": "code",
      "metadata": {
        "colab": {
          "base_uri": "https://localhost:8080/"
        },
        "id": "Xo-HAZZKP0rI",
        "outputId": "d2160ff0-2db8-4805-b4a8-726c34fe2ad2"
      },
      "source": [
        "v6 = v5.replace('5th', '5')\n",
        "v7 = v6.replace('6th', '6')\n",
        "v7.nunique()"
      ],
      "execution_count": 367,
      "outputs": [
        {
          "output_type": "execute_result",
          "data": {
            "text/plain": [
              "Student ID       375\n",
              "School Name        2\n",
              "Grade Level        2\n",
              "BOY F&P Score     16\n",
              "EOY F&P Score     16\n",
              "dtype: int64"
            ]
          },
          "metadata": {
            "tags": []
          },
          "execution_count": 367
        }
      ]
    },
    {
      "cell_type": "code",
      "metadata": {
        "colab": {
          "base_uri": "https://localhost:8080/"
        },
        "id": "T8LJkT8zQLzc",
        "outputId": "26d313b3-aadf-43d6-c905-91c5337e4767"
      },
      "source": [
        "v7['BOY F&P Score'].unique()"
      ],
      "execution_count": 368,
      "outputs": [
        {
          "output_type": "execute_result",
          "data": {
            "text/plain": [
              "array([11.,  8., 13., 14., 12., 15., 10.,  9., 16., nan, 17., 18.,  7.,\n",
              "        0., 20., 19., 21.])"
            ]
          },
          "metadata": {
            "tags": []
          },
          "execution_count": 368
        }
      ]
    },
    {
      "cell_type": "code",
      "metadata": {
        "colab": {
          "base_uri": "https://localhost:8080/"
        },
        "id": "PJsfW6UAQmRf",
        "outputId": "c8c877bd-d9d1-4a3a-cb41-8ea856a795e8"
      },
      "source": [
        "v7['EOY F&P Score'].unique()"
      ],
      "execution_count": 369,
      "outputs": [
        {
          "output_type": "execute_result",
          "data": {
            "text/plain": [
              "array([16., 14., 10., 11., 15., 12., nan, 17.,  9., 13., 18., 20., 19.,\n",
              "       21., 22., 33., 23.])"
            ]
          },
          "metadata": {
            "tags": []
          },
          "execution_count": 369
        }
      ]
    },
    {
      "cell_type": "code",
      "metadata": {
        "colab": {
          "base_uri": "https://localhost:8080/",
          "height": 1000
        },
        "id": "TouOp92lelU1",
        "outputId": "2d0f8ad8-036c-49c3-9ac7-894647f35de7"
      },
      "source": [
        "import numpy as np\n",
        "conditions1 = [\n",
        "              (v7['Grade Level'] == '5' ) & (v7['BOY F&P Score'] >= 0) & (v7['BOY F&P Score'] <= 9),\n",
        "              (v7['Grade Level'] == '5' ) & (v7['BOY F&P Score'] >= 10) & (v7['BOY F&P Score'] <= 11),\n",
        "              (v7['Grade Level'] == '5' ) & (v7['BOY F&P Score'] >= 12) & (v7['BOY F&P Score'] <= 13),\n",
        "              (v7['Grade Level'] == '5' ) & (v7['BOY F&P Score'] >= 14),\n",
        "              (v7['Grade Level'] == '6' ) & (v7['BOY F&P Score'] >= 0) & (v7['BOY F&P Score'] <= 11),\n",
        "              (v7['Grade Level'] == '6' ) & (v7['BOY F&P Score'] >= 12) & (v7['BOY F&P Score'] <= 13),\n",
        "              (v7['Grade Level'] == '6' ) & (v7['BOY F&P Score'] >= 14) & (v7['BOY F&P Score'] <= 15),\n",
        "              (v7['Grade Level'] == '6' ) & (v7['BOY F&P Score'] >= 16),\n",
        "              (v7['BOY F&P Score'] == None)              \n",
        "]\n",
        "\n",
        "choices1 = [1, 2, 3, 4, 1, 2, 3, 4, np.nan]\n",
        "BOYlevels = np.select(conditions1, choices1, default=np.nan)\n",
        "\n",
        "conditions2 = [\n",
        "              (v7['Grade Level'] == '5' ) & (v7['EOY F&P Score'] >= 0) & (v7['EOY F&P Score'] <= 11),\n",
        "              (v7['Grade Level'] == '5' ) & (v7['EOY F&P Score'] >= 12) & (v7['EOY F&P Score'] <= 13),\n",
        "              (v7['Grade Level'] == '5' ) & (v7['EOY F&P Score'] >= 14) & (v7['EOY F&P Score'] <= 15),\n",
        "              (v7['Grade Level'] == '5' ) & (v7['EOY F&P Score'] >= 16),\n",
        "              (v7['Grade Level'] == '6' ) & (v7['EOY F&P Score'] >= 0) & (v7['EOY F&P Score'] <= 13),\n",
        "              (v7['Grade Level'] == '6' ) & (v7['EOY F&P Score'] >= 14) & (v7['EOY F&P Score'] <= 15),\n",
        "              (v7['Grade Level'] == '6' ) & (v7['EOY F&P Score'] >= 16) & (v7['EOY F&P Score'] <= 17),\n",
        "              (v7['Grade Level'] == '6' ) & (v7['EOY F&P Score'] >= 18),\n",
        "              (v7['EOY F&P Score'] is None)              \n",
        "]\n",
        "\n",
        "choices2 = [1, 2, 3, 4, 1, 2, 3, 4, np.nan]\n",
        "EOYlevels = np.select(conditions2, choices2, default=np.nan)\n",
        "\n",
        "v7['BOY Proficiency'] = BOYlevels\n",
        "v7['EOY Proficiency'] = EOYlevels\n",
        "v7.head(40)"
      ],
      "execution_count": 370,
      "outputs": [
        {
          "output_type": "execute_result",
          "data": {
            "text/html": [
              "<div>\n",
              "<style scoped>\n",
              "    .dataframe tbody tr th:only-of-type {\n",
              "        vertical-align: middle;\n",
              "    }\n",
              "\n",
              "    .dataframe tbody tr th {\n",
              "        vertical-align: top;\n",
              "    }\n",
              "\n",
              "    .dataframe thead th {\n",
              "        text-align: right;\n",
              "    }\n",
              "</style>\n",
              "<table border=\"1\" class=\"dataframe\">\n",
              "  <thead>\n",
              "    <tr style=\"text-align: right;\">\n",
              "      <th></th>\n",
              "      <th>Student ID</th>\n",
              "      <th>School Name</th>\n",
              "      <th>Grade Level</th>\n",
              "      <th>BOY F&amp;P Score</th>\n",
              "      <th>EOY F&amp;P Score</th>\n",
              "      <th>BOY Proficiency</th>\n",
              "      <th>EOY Proficiency</th>\n",
              "    </tr>\n",
              "  </thead>\n",
              "  <tbody>\n",
              "    <tr>\n",
              "      <th>0</th>\n",
              "      <td>10000001.0</td>\n",
              "      <td>Bushwick Middle School</td>\n",
              "      <td>5</td>\n",
              "      <td>11.0</td>\n",
              "      <td>16.0</td>\n",
              "      <td>2.0</td>\n",
              "      <td>4.0</td>\n",
              "    </tr>\n",
              "    <tr>\n",
              "      <th>1</th>\n",
              "      <td>10000002.0</td>\n",
              "      <td>Bushwick Middle School</td>\n",
              "      <td>5</td>\n",
              "      <td>11.0</td>\n",
              "      <td>16.0</td>\n",
              "      <td>2.0</td>\n",
              "      <td>4.0</td>\n",
              "    </tr>\n",
              "    <tr>\n",
              "      <th>2</th>\n",
              "      <td>10000003.0</td>\n",
              "      <td>Crown Heights Middle School</td>\n",
              "      <td>5</td>\n",
              "      <td>11.0</td>\n",
              "      <td>16.0</td>\n",
              "      <td>2.0</td>\n",
              "      <td>4.0</td>\n",
              "    </tr>\n",
              "    <tr>\n",
              "      <th>3</th>\n",
              "      <td>10000004.0</td>\n",
              "      <td>Bushwick Middle School</td>\n",
              "      <td>5</td>\n",
              "      <td>11.0</td>\n",
              "      <td>16.0</td>\n",
              "      <td>2.0</td>\n",
              "      <td>4.0</td>\n",
              "    </tr>\n",
              "    <tr>\n",
              "      <th>4</th>\n",
              "      <td>10000005.0</td>\n",
              "      <td>Bushwick Middle School</td>\n",
              "      <td>5</td>\n",
              "      <td>11.0</td>\n",
              "      <td>14.0</td>\n",
              "      <td>2.0</td>\n",
              "      <td>3.0</td>\n",
              "    </tr>\n",
              "    <tr>\n",
              "      <th>5</th>\n",
              "      <td>10000006.0</td>\n",
              "      <td>Bushwick Middle School</td>\n",
              "      <td>5</td>\n",
              "      <td>11.0</td>\n",
              "      <td>10.0</td>\n",
              "      <td>2.0</td>\n",
              "      <td>1.0</td>\n",
              "    </tr>\n",
              "    <tr>\n",
              "      <th>6</th>\n",
              "      <td>10000007.0</td>\n",
              "      <td>Bushwick Middle School</td>\n",
              "      <td>5</td>\n",
              "      <td>8.0</td>\n",
              "      <td>14.0</td>\n",
              "      <td>1.0</td>\n",
              "      <td>3.0</td>\n",
              "    </tr>\n",
              "    <tr>\n",
              "      <th>7</th>\n",
              "      <td>10000008.0</td>\n",
              "      <td>Crown Heights Middle School</td>\n",
              "      <td>5</td>\n",
              "      <td>13.0</td>\n",
              "      <td>14.0</td>\n",
              "      <td>3.0</td>\n",
              "      <td>3.0</td>\n",
              "    </tr>\n",
              "    <tr>\n",
              "      <th>8</th>\n",
              "      <td>10000009.0</td>\n",
              "      <td>Crown Heights Middle School</td>\n",
              "      <td>5</td>\n",
              "      <td>13.0</td>\n",
              "      <td>11.0</td>\n",
              "      <td>3.0</td>\n",
              "      <td>1.0</td>\n",
              "    </tr>\n",
              "    <tr>\n",
              "      <th>9</th>\n",
              "      <td>10000010.0</td>\n",
              "      <td>Crown Heights Middle School</td>\n",
              "      <td>5</td>\n",
              "      <td>14.0</td>\n",
              "      <td>15.0</td>\n",
              "      <td>4.0</td>\n",
              "      <td>3.0</td>\n",
              "    </tr>\n",
              "    <tr>\n",
              "      <th>10</th>\n",
              "      <td>10000011.0</td>\n",
              "      <td>Crown Heights Middle School</td>\n",
              "      <td>5</td>\n",
              "      <td>13.0</td>\n",
              "      <td>14.0</td>\n",
              "      <td>3.0</td>\n",
              "      <td>3.0</td>\n",
              "    </tr>\n",
              "    <tr>\n",
              "      <th>11</th>\n",
              "      <td>10000012.0</td>\n",
              "      <td>Bushwick Middle School</td>\n",
              "      <td>5</td>\n",
              "      <td>11.0</td>\n",
              "      <td>16.0</td>\n",
              "      <td>2.0</td>\n",
              "      <td>4.0</td>\n",
              "    </tr>\n",
              "    <tr>\n",
              "      <th>12</th>\n",
              "      <td>10000013.0</td>\n",
              "      <td>Crown Heights Middle School</td>\n",
              "      <td>5</td>\n",
              "      <td>14.0</td>\n",
              "      <td>12.0</td>\n",
              "      <td>4.0</td>\n",
              "      <td>2.0</td>\n",
              "    </tr>\n",
              "    <tr>\n",
              "      <th>13</th>\n",
              "      <td>10000014.0</td>\n",
              "      <td>Bushwick Middle School</td>\n",
              "      <td>5</td>\n",
              "      <td>14.0</td>\n",
              "      <td>14.0</td>\n",
              "      <td>4.0</td>\n",
              "      <td>3.0</td>\n",
              "    </tr>\n",
              "    <tr>\n",
              "      <th>14</th>\n",
              "      <td>10000015.0</td>\n",
              "      <td>Crown Heights Middle School</td>\n",
              "      <td>5</td>\n",
              "      <td>13.0</td>\n",
              "      <td>15.0</td>\n",
              "      <td>3.0</td>\n",
              "      <td>3.0</td>\n",
              "    </tr>\n",
              "    <tr>\n",
              "      <th>15</th>\n",
              "      <td>10000016.0</td>\n",
              "      <td>Bushwick Middle School</td>\n",
              "      <td>5</td>\n",
              "      <td>12.0</td>\n",
              "      <td>15.0</td>\n",
              "      <td>3.0</td>\n",
              "      <td>3.0</td>\n",
              "    </tr>\n",
              "    <tr>\n",
              "      <th>16</th>\n",
              "      <td>10000017.0</td>\n",
              "      <td>Crown Heights Middle School</td>\n",
              "      <td>5</td>\n",
              "      <td>15.0</td>\n",
              "      <td>11.0</td>\n",
              "      <td>4.0</td>\n",
              "      <td>1.0</td>\n",
              "    </tr>\n",
              "    <tr>\n",
              "      <th>17</th>\n",
              "      <td>10000018.0</td>\n",
              "      <td>Bushwick Middle School</td>\n",
              "      <td>5</td>\n",
              "      <td>13.0</td>\n",
              "      <td>15.0</td>\n",
              "      <td>3.0</td>\n",
              "      <td>3.0</td>\n",
              "    </tr>\n",
              "    <tr>\n",
              "      <th>18</th>\n",
              "      <td>10000019.0</td>\n",
              "      <td>Bushwick Middle School</td>\n",
              "      <td>5</td>\n",
              "      <td>11.0</td>\n",
              "      <td>15.0</td>\n",
              "      <td>2.0</td>\n",
              "      <td>3.0</td>\n",
              "    </tr>\n",
              "    <tr>\n",
              "      <th>19</th>\n",
              "      <td>10000020.0</td>\n",
              "      <td>Bushwick Middle School</td>\n",
              "      <td>5</td>\n",
              "      <td>14.0</td>\n",
              "      <td>11.0</td>\n",
              "      <td>4.0</td>\n",
              "      <td>1.0</td>\n",
              "    </tr>\n",
              "    <tr>\n",
              "      <th>20</th>\n",
              "      <td>10000021.0</td>\n",
              "      <td>Crown Heights Middle School</td>\n",
              "      <td>5</td>\n",
              "      <td>13.0</td>\n",
              "      <td>NaN</td>\n",
              "      <td>3.0</td>\n",
              "      <td>NaN</td>\n",
              "    </tr>\n",
              "    <tr>\n",
              "      <th>21</th>\n",
              "      <td>10000022.0</td>\n",
              "      <td>Bushwick Middle School</td>\n",
              "      <td>5</td>\n",
              "      <td>10.0</td>\n",
              "      <td>11.0</td>\n",
              "      <td>2.0</td>\n",
              "      <td>1.0</td>\n",
              "    </tr>\n",
              "    <tr>\n",
              "      <th>22</th>\n",
              "      <td>10000023.0</td>\n",
              "      <td>Bushwick Middle School</td>\n",
              "      <td>5</td>\n",
              "      <td>9.0</td>\n",
              "      <td>15.0</td>\n",
              "      <td>1.0</td>\n",
              "      <td>3.0</td>\n",
              "    </tr>\n",
              "    <tr>\n",
              "      <th>23</th>\n",
              "      <td>10000024.0</td>\n",
              "      <td>Crown Heights Middle School</td>\n",
              "      <td>5</td>\n",
              "      <td>14.0</td>\n",
              "      <td>12.0</td>\n",
              "      <td>4.0</td>\n",
              "      <td>2.0</td>\n",
              "    </tr>\n",
              "    <tr>\n",
              "      <th>24</th>\n",
              "      <td>10000025.0</td>\n",
              "      <td>Bushwick Middle School</td>\n",
              "      <td>5</td>\n",
              "      <td>10.0</td>\n",
              "      <td>10.0</td>\n",
              "      <td>2.0</td>\n",
              "      <td>1.0</td>\n",
              "    </tr>\n",
              "    <tr>\n",
              "      <th>25</th>\n",
              "      <td>10000026.0</td>\n",
              "      <td>Crown Heights Middle School</td>\n",
              "      <td>5</td>\n",
              "      <td>14.0</td>\n",
              "      <td>15.0</td>\n",
              "      <td>4.0</td>\n",
              "      <td>3.0</td>\n",
              "    </tr>\n",
              "    <tr>\n",
              "      <th>26</th>\n",
              "      <td>10000027.0</td>\n",
              "      <td>Bushwick Middle School</td>\n",
              "      <td>5</td>\n",
              "      <td>10.0</td>\n",
              "      <td>14.0</td>\n",
              "      <td>2.0</td>\n",
              "      <td>3.0</td>\n",
              "    </tr>\n",
              "    <tr>\n",
              "      <th>27</th>\n",
              "      <td>10000028.0</td>\n",
              "      <td>Bushwick Middle School</td>\n",
              "      <td>5</td>\n",
              "      <td>10.0</td>\n",
              "      <td>17.0</td>\n",
              "      <td>2.0</td>\n",
              "      <td>4.0</td>\n",
              "    </tr>\n",
              "    <tr>\n",
              "      <th>28</th>\n",
              "      <td>10000029.0</td>\n",
              "      <td>Bushwick Middle School</td>\n",
              "      <td>5</td>\n",
              "      <td>12.0</td>\n",
              "      <td>14.0</td>\n",
              "      <td>3.0</td>\n",
              "      <td>3.0</td>\n",
              "    </tr>\n",
              "    <tr>\n",
              "      <th>29</th>\n",
              "      <td>10000030.0</td>\n",
              "      <td>Bushwick Middle School</td>\n",
              "      <td>5</td>\n",
              "      <td>12.0</td>\n",
              "      <td>9.0</td>\n",
              "      <td>3.0</td>\n",
              "      <td>1.0</td>\n",
              "    </tr>\n",
              "    <tr>\n",
              "      <th>30</th>\n",
              "      <td>10000031.0</td>\n",
              "      <td>Bushwick Middle School</td>\n",
              "      <td>5</td>\n",
              "      <td>13.0</td>\n",
              "      <td>15.0</td>\n",
              "      <td>3.0</td>\n",
              "      <td>3.0</td>\n",
              "    </tr>\n",
              "    <tr>\n",
              "      <th>31</th>\n",
              "      <td>10000032.0</td>\n",
              "      <td>Bushwick Middle School</td>\n",
              "      <td>5</td>\n",
              "      <td>12.0</td>\n",
              "      <td>14.0</td>\n",
              "      <td>3.0</td>\n",
              "      <td>3.0</td>\n",
              "    </tr>\n",
              "    <tr>\n",
              "      <th>32</th>\n",
              "      <td>10000033.0</td>\n",
              "      <td>Bushwick Middle School</td>\n",
              "      <td>5</td>\n",
              "      <td>11.0</td>\n",
              "      <td>16.0</td>\n",
              "      <td>2.0</td>\n",
              "      <td>4.0</td>\n",
              "    </tr>\n",
              "    <tr>\n",
              "      <th>33</th>\n",
              "      <td>10000034.0</td>\n",
              "      <td>Bushwick Middle School</td>\n",
              "      <td>5</td>\n",
              "      <td>9.0</td>\n",
              "      <td>14.0</td>\n",
              "      <td>1.0</td>\n",
              "      <td>3.0</td>\n",
              "    </tr>\n",
              "    <tr>\n",
              "      <th>34</th>\n",
              "      <td>10000035.0</td>\n",
              "      <td>Bushwick Middle School</td>\n",
              "      <td>5</td>\n",
              "      <td>12.0</td>\n",
              "      <td>13.0</td>\n",
              "      <td>3.0</td>\n",
              "      <td>2.0</td>\n",
              "    </tr>\n",
              "    <tr>\n",
              "      <th>35</th>\n",
              "      <td>10000036.0</td>\n",
              "      <td>Bushwick Middle School</td>\n",
              "      <td>5</td>\n",
              "      <td>16.0</td>\n",
              "      <td>11.0</td>\n",
              "      <td>4.0</td>\n",
              "      <td>1.0</td>\n",
              "    </tr>\n",
              "    <tr>\n",
              "      <th>36</th>\n",
              "      <td>10000037.0</td>\n",
              "      <td>Bushwick Middle School</td>\n",
              "      <td>5</td>\n",
              "      <td>12.0</td>\n",
              "      <td>13.0</td>\n",
              "      <td>3.0</td>\n",
              "      <td>2.0</td>\n",
              "    </tr>\n",
              "    <tr>\n",
              "      <th>37</th>\n",
              "      <td>10000038.0</td>\n",
              "      <td>Bushwick Middle School</td>\n",
              "      <td>5</td>\n",
              "      <td>NaN</td>\n",
              "      <td>12.0</td>\n",
              "      <td>NaN</td>\n",
              "      <td>2.0</td>\n",
              "    </tr>\n",
              "    <tr>\n",
              "      <th>38</th>\n",
              "      <td>10000039.0</td>\n",
              "      <td>Bushwick Middle School</td>\n",
              "      <td>5</td>\n",
              "      <td>12.0</td>\n",
              "      <td>12.0</td>\n",
              "      <td>3.0</td>\n",
              "      <td>2.0</td>\n",
              "    </tr>\n",
              "    <tr>\n",
              "      <th>39</th>\n",
              "      <td>10000040.0</td>\n",
              "      <td>Bushwick Middle School</td>\n",
              "      <td>5</td>\n",
              "      <td>12.0</td>\n",
              "      <td>14.0</td>\n",
              "      <td>3.0</td>\n",
              "      <td>3.0</td>\n",
              "    </tr>\n",
              "  </tbody>\n",
              "</table>\n",
              "</div>"
            ],
            "text/plain": [
              "    Student ID                  School Name  ... BOY Proficiency  EOY Proficiency\n",
              "0   10000001.0       Bushwick Middle School  ...             2.0              4.0\n",
              "1   10000002.0       Bushwick Middle School  ...             2.0              4.0\n",
              "2   10000003.0  Crown Heights Middle School  ...             2.0              4.0\n",
              "3   10000004.0       Bushwick Middle School  ...             2.0              4.0\n",
              "4   10000005.0       Bushwick Middle School  ...             2.0              3.0\n",
              "5   10000006.0       Bushwick Middle School  ...             2.0              1.0\n",
              "6   10000007.0       Bushwick Middle School  ...             1.0              3.0\n",
              "7   10000008.0  Crown Heights Middle School  ...             3.0              3.0\n",
              "8   10000009.0  Crown Heights Middle School  ...             3.0              1.0\n",
              "9   10000010.0  Crown Heights Middle School  ...             4.0              3.0\n",
              "10  10000011.0  Crown Heights Middle School  ...             3.0              3.0\n",
              "11  10000012.0       Bushwick Middle School  ...             2.0              4.0\n",
              "12  10000013.0  Crown Heights Middle School  ...             4.0              2.0\n",
              "13  10000014.0       Bushwick Middle School  ...             4.0              3.0\n",
              "14  10000015.0  Crown Heights Middle School  ...             3.0              3.0\n",
              "15  10000016.0       Bushwick Middle School  ...             3.0              3.0\n",
              "16  10000017.0  Crown Heights Middle School  ...             4.0              1.0\n",
              "17  10000018.0       Bushwick Middle School  ...             3.0              3.0\n",
              "18  10000019.0       Bushwick Middle School  ...             2.0              3.0\n",
              "19  10000020.0       Bushwick Middle School  ...             4.0              1.0\n",
              "20  10000021.0  Crown Heights Middle School  ...             3.0              NaN\n",
              "21  10000022.0       Bushwick Middle School  ...             2.0              1.0\n",
              "22  10000023.0       Bushwick Middle School  ...             1.0              3.0\n",
              "23  10000024.0  Crown Heights Middle School  ...             4.0              2.0\n",
              "24  10000025.0       Bushwick Middle School  ...             2.0              1.0\n",
              "25  10000026.0  Crown Heights Middle School  ...             4.0              3.0\n",
              "26  10000027.0       Bushwick Middle School  ...             2.0              3.0\n",
              "27  10000028.0       Bushwick Middle School  ...             2.0              4.0\n",
              "28  10000029.0       Bushwick Middle School  ...             3.0              3.0\n",
              "29  10000030.0       Bushwick Middle School  ...             3.0              1.0\n",
              "30  10000031.0       Bushwick Middle School  ...             3.0              3.0\n",
              "31  10000032.0       Bushwick Middle School  ...             3.0              3.0\n",
              "32  10000033.0       Bushwick Middle School  ...             2.0              4.0\n",
              "33  10000034.0       Bushwick Middle School  ...             1.0              3.0\n",
              "34  10000035.0       Bushwick Middle School  ...             3.0              2.0\n",
              "35  10000036.0       Bushwick Middle School  ...             4.0              1.0\n",
              "36  10000037.0       Bushwick Middle School  ...             3.0              2.0\n",
              "37  10000038.0       Bushwick Middle School  ...             NaN              2.0\n",
              "38  10000039.0       Bushwick Middle School  ...             3.0              2.0\n",
              "39  10000040.0       Bushwick Middle School  ...             3.0              3.0\n",
              "\n",
              "[40 rows x 7 columns]"
            ]
          },
          "metadata": {
            "tags": []
          },
          "execution_count": 370
        }
      ]
    },
    {
      "cell_type": "code",
      "metadata": {
        "colab": {
          "base_uri": "https://localhost:8080/",
          "height": 676
        },
        "id": "dCpDzQFtuQhI",
        "outputId": "569c6946-bea6-4e46-ebd0-4c6ad369b793"
      },
      "source": [
        "conditions3 = [\n",
        "              (v7['BOY Proficiency'] < v7['EOY Proficiency']),\n",
        "              (v7['BOY Proficiency'] > v7['EOY Proficiency']),\n",
        "              (v7['BOY Proficiency'] == v7['EOY Proficiency']),\n",
        "              (v7['BOY Proficiency'] is None) or (v7['EOY Proficiency'] is None)\n",
        "]\n",
        "\n",
        "choices3 = ['Positive', 'Negative', 'Same', np.nan]\n",
        "change = np.select(conditions3, choices3, default=np.nan)\n",
        "\n",
        "v7['Proficiency Change'] = change\n",
        "v7.tail(20)"
      ],
      "execution_count": 371,
      "outputs": [
        {
          "output_type": "execute_result",
          "data": {
            "text/html": [
              "<div>\n",
              "<style scoped>\n",
              "    .dataframe tbody tr th:only-of-type {\n",
              "        vertical-align: middle;\n",
              "    }\n",
              "\n",
              "    .dataframe tbody tr th {\n",
              "        vertical-align: top;\n",
              "    }\n",
              "\n",
              "    .dataframe thead th {\n",
              "        text-align: right;\n",
              "    }\n",
              "</style>\n",
              "<table border=\"1\" class=\"dataframe\">\n",
              "  <thead>\n",
              "    <tr style=\"text-align: right;\">\n",
              "      <th></th>\n",
              "      <th>Student ID</th>\n",
              "      <th>School Name</th>\n",
              "      <th>Grade Level</th>\n",
              "      <th>BOY F&amp;P Score</th>\n",
              "      <th>EOY F&amp;P Score</th>\n",
              "      <th>BOY Proficiency</th>\n",
              "      <th>EOY Proficiency</th>\n",
              "      <th>Proficiency Change</th>\n",
              "    </tr>\n",
              "  </thead>\n",
              "  <tbody>\n",
              "    <tr>\n",
              "      <th>356</th>\n",
              "      <td>10000356.0</td>\n",
              "      <td>Crown Heights Middle School</td>\n",
              "      <td>6</td>\n",
              "      <td>15.0</td>\n",
              "      <td>21.0</td>\n",
              "      <td>3.0</td>\n",
              "      <td>4.0</td>\n",
              "      <td>Positive</td>\n",
              "    </tr>\n",
              "    <tr>\n",
              "      <th>357</th>\n",
              "      <td>10000357.0</td>\n",
              "      <td>Crown Heights Middle School</td>\n",
              "      <td>6</td>\n",
              "      <td>NaN</td>\n",
              "      <td>21.0</td>\n",
              "      <td>NaN</td>\n",
              "      <td>4.0</td>\n",
              "      <td>nan</td>\n",
              "    </tr>\n",
              "    <tr>\n",
              "      <th>358</th>\n",
              "      <td>10000358.0</td>\n",
              "      <td>Bushwick Middle School</td>\n",
              "      <td>6</td>\n",
              "      <td>14.0</td>\n",
              "      <td>18.0</td>\n",
              "      <td>3.0</td>\n",
              "      <td>4.0</td>\n",
              "      <td>Positive</td>\n",
              "    </tr>\n",
              "    <tr>\n",
              "      <th>359</th>\n",
              "      <td>10000359.0</td>\n",
              "      <td>Crown Heights Middle School</td>\n",
              "      <td>6</td>\n",
              "      <td>NaN</td>\n",
              "      <td>16.0</td>\n",
              "      <td>NaN</td>\n",
              "      <td>3.0</td>\n",
              "      <td>nan</td>\n",
              "    </tr>\n",
              "    <tr>\n",
              "      <th>360</th>\n",
              "      <td>10000360.0</td>\n",
              "      <td>Bushwick Middle School</td>\n",
              "      <td>6</td>\n",
              "      <td>12.0</td>\n",
              "      <td>20.0</td>\n",
              "      <td>2.0</td>\n",
              "      <td>4.0</td>\n",
              "      <td>Positive</td>\n",
              "    </tr>\n",
              "    <tr>\n",
              "      <th>361</th>\n",
              "      <td>10000361.0</td>\n",
              "      <td>Bushwick Middle School</td>\n",
              "      <td>6</td>\n",
              "      <td>11.0</td>\n",
              "      <td>18.0</td>\n",
              "      <td>1.0</td>\n",
              "      <td>4.0</td>\n",
              "      <td>Positive</td>\n",
              "    </tr>\n",
              "    <tr>\n",
              "      <th>362</th>\n",
              "      <td>10000362.0</td>\n",
              "      <td>Crown Heights Middle School</td>\n",
              "      <td>6</td>\n",
              "      <td>NaN</td>\n",
              "      <td>21.0</td>\n",
              "      <td>NaN</td>\n",
              "      <td>4.0</td>\n",
              "      <td>nan</td>\n",
              "    </tr>\n",
              "    <tr>\n",
              "      <th>363</th>\n",
              "      <td>10000363.0</td>\n",
              "      <td>Bushwick Middle School</td>\n",
              "      <td>6</td>\n",
              "      <td>15.0</td>\n",
              "      <td>20.0</td>\n",
              "      <td>3.0</td>\n",
              "      <td>4.0</td>\n",
              "      <td>Positive</td>\n",
              "    </tr>\n",
              "    <tr>\n",
              "      <th>364</th>\n",
              "      <td>10000364.0</td>\n",
              "      <td>Crown Heights Middle School</td>\n",
              "      <td>6</td>\n",
              "      <td>NaN</td>\n",
              "      <td>18.0</td>\n",
              "      <td>NaN</td>\n",
              "      <td>4.0</td>\n",
              "      <td>nan</td>\n",
              "    </tr>\n",
              "    <tr>\n",
              "      <th>365</th>\n",
              "      <td>10000365.0</td>\n",
              "      <td>Crown Heights Middle School</td>\n",
              "      <td>6</td>\n",
              "      <td>17.0</td>\n",
              "      <td>16.0</td>\n",
              "      <td>4.0</td>\n",
              "      <td>3.0</td>\n",
              "      <td>Negative</td>\n",
              "    </tr>\n",
              "    <tr>\n",
              "      <th>366</th>\n",
              "      <td>10000366.0</td>\n",
              "      <td>Bushwick Middle School</td>\n",
              "      <td>6</td>\n",
              "      <td>14.0</td>\n",
              "      <td>18.0</td>\n",
              "      <td>3.0</td>\n",
              "      <td>4.0</td>\n",
              "      <td>Positive</td>\n",
              "    </tr>\n",
              "    <tr>\n",
              "      <th>367</th>\n",
              "      <td>10000367.0</td>\n",
              "      <td>Crown Heights Middle School</td>\n",
              "      <td>6</td>\n",
              "      <td>NaN</td>\n",
              "      <td>19.0</td>\n",
              "      <td>NaN</td>\n",
              "      <td>4.0</td>\n",
              "      <td>nan</td>\n",
              "    </tr>\n",
              "    <tr>\n",
              "      <th>368</th>\n",
              "      <td>10000368.0</td>\n",
              "      <td>Bushwick Middle School</td>\n",
              "      <td>6</td>\n",
              "      <td>14.0</td>\n",
              "      <td>16.0</td>\n",
              "      <td>3.0</td>\n",
              "      <td>3.0</td>\n",
              "      <td>Same</td>\n",
              "    </tr>\n",
              "    <tr>\n",
              "      <th>369</th>\n",
              "      <td>10000369.0</td>\n",
              "      <td>Crown Heights Middle School</td>\n",
              "      <td>6</td>\n",
              "      <td>18.0</td>\n",
              "      <td>19.0</td>\n",
              "      <td>4.0</td>\n",
              "      <td>4.0</td>\n",
              "      <td>Same</td>\n",
              "    </tr>\n",
              "    <tr>\n",
              "      <th>370</th>\n",
              "      <td>10000370.0</td>\n",
              "      <td>Crown Heights Middle School</td>\n",
              "      <td>6</td>\n",
              "      <td>NaN</td>\n",
              "      <td>18.0</td>\n",
              "      <td>NaN</td>\n",
              "      <td>4.0</td>\n",
              "      <td>nan</td>\n",
              "    </tr>\n",
              "    <tr>\n",
              "      <th>371</th>\n",
              "      <td>10000371.0</td>\n",
              "      <td>Bushwick Middle School</td>\n",
              "      <td>6</td>\n",
              "      <td>10.0</td>\n",
              "      <td>16.0</td>\n",
              "      <td>1.0</td>\n",
              "      <td>3.0</td>\n",
              "      <td>Positive</td>\n",
              "    </tr>\n",
              "    <tr>\n",
              "      <th>372</th>\n",
              "      <td>10000372.0</td>\n",
              "      <td>Bushwick Middle School</td>\n",
              "      <td>6</td>\n",
              "      <td>NaN</td>\n",
              "      <td>15.0</td>\n",
              "      <td>NaN</td>\n",
              "      <td>2.0</td>\n",
              "      <td>nan</td>\n",
              "    </tr>\n",
              "    <tr>\n",
              "      <th>373</th>\n",
              "      <td>10000373.0</td>\n",
              "      <td>Bushwick Middle School</td>\n",
              "      <td>6</td>\n",
              "      <td>NaN</td>\n",
              "      <td>18.0</td>\n",
              "      <td>NaN</td>\n",
              "      <td>4.0</td>\n",
              "      <td>nan</td>\n",
              "    </tr>\n",
              "    <tr>\n",
              "      <th>374</th>\n",
              "      <td>10000374.0</td>\n",
              "      <td>Crown Heights Middle School</td>\n",
              "      <td>6</td>\n",
              "      <td>NaN</td>\n",
              "      <td>19.0</td>\n",
              "      <td>NaN</td>\n",
              "      <td>4.0</td>\n",
              "      <td>nan</td>\n",
              "    </tr>\n",
              "    <tr>\n",
              "      <th>375</th>\n",
              "      <td>10000375.0</td>\n",
              "      <td>Crown Heights Middle School</td>\n",
              "      <td>6</td>\n",
              "      <td>NaN</td>\n",
              "      <td>21.0</td>\n",
              "      <td>NaN</td>\n",
              "      <td>4.0</td>\n",
              "      <td>nan</td>\n",
              "    </tr>\n",
              "  </tbody>\n",
              "</table>\n",
              "</div>"
            ],
            "text/plain": [
              "     Student ID  ... Proficiency Change\n",
              "356  10000356.0  ...           Positive\n",
              "357  10000357.0  ...                nan\n",
              "358  10000358.0  ...           Positive\n",
              "359  10000359.0  ...                nan\n",
              "360  10000360.0  ...           Positive\n",
              "361  10000361.0  ...           Positive\n",
              "362  10000362.0  ...                nan\n",
              "363  10000363.0  ...           Positive\n",
              "364  10000364.0  ...                nan\n",
              "365  10000365.0  ...           Negative\n",
              "366  10000366.0  ...           Positive\n",
              "367  10000367.0  ...                nan\n",
              "368  10000368.0  ...               Same\n",
              "369  10000369.0  ...               Same\n",
              "370  10000370.0  ...                nan\n",
              "371  10000371.0  ...           Positive\n",
              "372  10000372.0  ...                nan\n",
              "373  10000373.0  ...                nan\n",
              "374  10000374.0  ...                nan\n",
              "375  10000375.0  ...                nan\n",
              "\n",
              "[20 rows x 8 columns]"
            ]
          },
          "metadata": {
            "tags": []
          },
          "execution_count": 371
        }
      ]
    },
    {
      "cell_type": "code",
      "metadata": {
        "id": "hzbW1W0KsR_2"
      },
      "source": [
        "ch5b = v7.copy()\n",
        "ch5b['Grade Level'] = ch5b['Grade Level'].mask(ch5b['Grade Level'].ne('5'))\n",
        "ch5b['School Name'] = ch5b['School Name'].mask(ch5b['School Name'].ne('Crown Heights Middle School'))\n",
        "ch5b_slices = ch5b.groupby(['School Name', 'BOY Proficiency'])['Grade Level'].count().unstack(fill_value=0)\n",
        "\n",
        "ch5e = v7.copy()\n",
        "ch5e['Grade Level'] = ch5e['Grade Level'].mask(ch5e['Grade Level'].ne('5'))\n",
        "ch5e['School Name'] = ch5e['School Name'].mask(ch5e['School Name'].ne('Crown Heights Middle School'))\n",
        "ch5e_slices = ch5e.groupby(['School Name', 'EOY Proficiency'])['Grade Level'].count().unstack(fill_value=0)\n",
        "\n",
        "ch6b = v7.copy()\n",
        "ch6b['Grade Level'] = ch6b['Grade Level'].mask(ch6b['Grade Level'].ne('6'))\n",
        "ch6b['School Name'] = ch6b['School Name'].mask(ch6b['School Name'].ne('Crown Heights Middle School'))\n",
        "ch6b_slices = ch6b.groupby(['School Name', 'BOY Proficiency'])['Grade Level'].count().unstack(fill_value=0)\n",
        "\n",
        "ch6e = v7.copy()\n",
        "ch6e['Grade Level'] = ch6e['Grade Level'].mask(ch6e['Grade Level'].ne('6'))\n",
        "ch6e['School Name'] = ch6e['School Name'].mask(ch6e['School Name'].ne('Crown Heights Middle School'))\n",
        "ch6e_slices = ch6e.groupby(['School Name', 'EOY Proficiency'])['Grade Level'].count().unstack(fill_value=0)\n",
        "\n",
        "b5b = v7.copy()\n",
        "b5b['Grade Level'] = b5b['Grade Level'].mask(b5b['Grade Level'].ne('5'))\n",
        "b5b['School Name'] = b5b['School Name'].mask(b5b['School Name'].ne('Bushwick Middle School'))\n",
        "b5b_slices = b5b.groupby(['School Name', 'BOY Proficiency'])['Grade Level'].count().unstack(fill_value=0)\n",
        "\n",
        "b5e = v7.copy()\n",
        "b5e['Grade Level'] = b5e['Grade Level'].mask(b5e['Grade Level'].ne('5'))\n",
        "b5e['School Name'] = b5e['School Name'].mask(b5e['School Name'].ne('Bushwick Middle School'))\n",
        "b5e_slices = b5e.groupby(['School Name', 'EOY Proficiency'])['Grade Level'].count().unstack(fill_value=0)\n",
        "\n",
        "b6b = v7.copy()\n",
        "b6b['Grade Level'] = b6b['Grade Level'].mask(b6b['Grade Level'].ne('6'))\n",
        "b6b['School Name'] = b6b['School Name'].mask(b6b['School Name'].ne('Bushwick Middle School'))\n",
        "b6b_slices = b6b.groupby(['School Name', 'BOY Proficiency'])['Grade Level'].count().unstack(fill_value=0)\n",
        "\n",
        "b6e = v7.copy()\n",
        "b6e['Grade Level'] = b6e['Grade Level'].mask(b6e['Grade Level'].ne('6'))\n",
        "b6e['School Name'] = b6e['School Name'].mask(b6e['School Name'].ne('Bushwick Middle School'))\n",
        "b6e_slices = b6e.groupby(['School Name', 'EOY Proficiency'])['Grade Level'].count().unstack(fill_value=0)\n"
      ],
      "execution_count": 384,
      "outputs": []
    },
    {
      "cell_type": "code",
      "metadata": {
        "colab": {
          "base_uri": "https://localhost:8080/",
          "height": 785
        },
        "id": "N7t94JKC5SYl",
        "outputId": "46f6801f-9422-4586-cad9-2da0963e1f02"
      },
      "source": [
        "import matplotlib.pyplot as plt\n",
        "labels = ['Remedial', 'Below Proficient', 'Proficient', 'Advanced']\n",
        "colors = ['red', 'orange', 'yellowgreen', 'skyblue']\n",
        "\n",
        "fig, axarr = plt.subplots(1, 2)\n",
        "ax1 = axarr[0]\n",
        "ax2 = axarr[1]\n",
        "\n",
        "ax1.pie(ch5b_slices, autopct = '%1.1f%%', colors=colors)\n",
        "ax1.axis('equal')\n",
        "ax1.set_title('BOY Proficiency', y=.9)\n",
        "\n",
        "ax2.pie(ch5e_slices, autopct = '%1.1f%%', colors=colors)\n",
        "ax2.axis('equal')\n",
        "ax2.set_title('EOY Proficiency', y=.9)\n",
        "\n",
        "lgd1 = ax1.legend(labels, loc=(0.8,0))\n",
        "\n",
        "fig.suptitle('Proficiency for 5th graders at Crown Heights Middle School', fontweight='bold')\n",
        "\n",
        "fig.set_figheight(5)\n",
        "fig.set_figwidth(8)\n",
        "plt.show()\n",
        "\n",
        "\n",
        "fig, axarr = plt.subplots(1, 2)\n",
        "ax1 = axarr[0]\n",
        "ax2 = axarr[1]\n",
        "\n",
        "ax1.pie(b5b_slices, autopct = '%1.1f%%', colors=colors)\n",
        "ax1.axis('equal')\n",
        "ax1.set_title('BOY Proficiency', y=.9)\n",
        "\n",
        "ax2.pie(b5e_slices, autopct = '%1.1f%%', colors=colors)\n",
        "ax2.axis('equal')\n",
        "ax2.set_title('EOY Proficiency', y=.9)\n",
        "\n",
        "lgd1 = ax1.legend(labels, loc=(0.8,0))\n",
        "\n",
        "fig.suptitle('Proficiency for 5th graders at Bushwick Middle School', fontweight='bold')\n",
        "\n",
        "fig.set_figheight(5)\n",
        "fig.set_figwidth(8)\n",
        "plt.show()"
      ],
      "execution_count": 387,
      "outputs": [
        {
          "output_type": "stream",
          "text": [
            "/usr/local/lib/python3.7/dist-packages/ipykernel_launcher.py:9: MatplotlibDeprecationWarning: Non-1D inputs to pie() are currently squeeze()d, but this behavior is deprecated since 3.1 and will be removed in 3.3; pass a 1D array instead.\n",
            "  if __name__ == '__main__':\n",
            "/usr/local/lib/python3.7/dist-packages/ipykernel_launcher.py:13: MatplotlibDeprecationWarning: Non-1D inputs to pie() are currently squeeze()d, but this behavior is deprecated since 3.1 and will be removed in 3.3; pass a 1D array instead.\n",
            "  del sys.path[0]\n"
          ],
          "name": "stderr"
        },
        {
          "output_type": "display_data",
          "data": {
            "image/png": "[encoded data removed]",
            "text/plain": [
              "<Figure size 576x360 with 2 Axes>"
            ]
          },
          "metadata": {
            "tags": []
          }
        },
        {
          "output_type": "stream",
          "text": [
            "/usr/local/lib/python3.7/dist-packages/ipykernel_launcher.py:30: MatplotlibDeprecationWarning: Non-1D inputs to pie() are currently squeeze()d, but this behavior is deprecated since 3.1 and will be removed in 3.3; pass a 1D array instead.\n",
            "/usr/local/lib/python3.7/dist-packages/ipykernel_launcher.py:34: MatplotlibDeprecationWarning: Non-1D inputs to pie() are currently squeeze()d, but this behavior is deprecated since 3.1 and will be removed in 3.3; pass a 1D array instead.\n"
          ],
          "name": "stderr"
        },
        {
          "output_type": "display_data",
          "data": {
            "image/png": "[encoded data removed]",
            "text/plain": [
              "<Figure size 576x360 with 2 Axes>"
            ]
          },
          "metadata": {
            "tags": []
          }
        }
      ]
    },
    {
      "cell_type": "code",
      "metadata": {
        "colab": {
          "base_uri": "https://localhost:8080/",
          "height": 785
        },
        "id": "LHX7kZc46SQk",
        "outputId": "a2273622-4cfe-4fea-e9d3-e59dac7cffe0"
      },
      "source": [
        "fig, axarr = plt.subplots(1, 2)\n",
        "ax1 = axarr[0]\n",
        "ax2 = axarr[1]\n",
        "\n",
        "ax1.pie(ch6b_slices, autopct = '%1.1f%%', colors=colors)\n",
        "ax1.axis('equal')\n",
        "ax1.set_title('BOY Proficiency', y=.9)\n",
        "\n",
        "ax2.pie(ch6e_slices, autopct = '%1.1f%%', colors=colors)\n",
        "ax2.axis('equal')\n",
        "ax2.set_title('EOY Proficiency', y=.9)\n",
        "\n",
        "lgd1 = ax1.legend(labels, loc=(0.8,0))\n",
        "\n",
        "fig.suptitle('Proficiency for 6th graders at Crown Heights Middle School', fontweight='bold')\n",
        "\n",
        "fig.set_figheight(5)\n",
        "fig.set_figwidth(8)\n",
        "plt.show()\n",
        "\n",
        "\n",
        "fig, axarr = plt.subplots(1, 2)\n",
        "ax1 = axarr[0]\n",
        "ax2 = axarr[1]\n",
        "\n",
        "ax1.pie(b6b_slices, autopct = '%1.1f%%', colors=colors)\n",
        "ax1.axis('equal')\n",
        "ax1.set_title('BOY Proficiency', y=.9)\n",
        "\n",
        "ax2.pie(b6e_slices, autopct = '%1.1f%%', colors=colors)\n",
        "ax2.axis('equal')\n",
        "ax2.set_title('EOY Proficiency', y=.9)\n",
        "\n",
        "lgd1 = ax1.legend(labels, loc=(0.8,0))\n",
        "\n",
        "fig.suptitle('Proficiency for 6th graders at Bushwick Middle School', fontweight='bold')\n",
        "\n",
        "fig.set_figheight(5)\n",
        "fig.set_figwidth(8)\n",
        "plt.show()"
      ],
      "execution_count": 394,
      "outputs": [
        {
          "output_type": "stream",
          "text": [
            "/usr/local/lib/python3.7/dist-packages/ipykernel_launcher.py:5: MatplotlibDeprecationWarning: Non-1D inputs to pie() are currently squeeze()d, but this behavior is deprecated since 3.1 and will be removed in 3.3; pass a 1D array instead.\n",
            "  \"\"\"\n",
            "/usr/local/lib/python3.7/dist-packages/ipykernel_launcher.py:9: MatplotlibDeprecationWarning: Non-1D inputs to pie() are currently squeeze()d, but this behavior is deprecated since 3.1 and will be removed in 3.3; pass a 1D array instead.\n",
            "  if __name__ == '__main__':\n"
          ],
          "name": "stderr"
        },
        {
          "output_type": "display_data",
          "data": {
            "image/png": "[encoded data removed]",
            "text/plain": [
              "<Figure size 576x360 with 2 Axes>"
            ]
          },
          "metadata": {
            "tags": []
          }
        },
        {
          "output_type": "stream",
          "text": [
            "/usr/local/lib/python3.7/dist-packages/ipykernel_launcher.py:26: MatplotlibDeprecationWarning: Non-1D inputs to pie() are currently squeeze()d, but this behavior is deprecated since 3.1 and will be removed in 3.3; pass a 1D array instead.\n",
            "/usr/local/lib/python3.7/dist-packages/ipykernel_launcher.py:30: MatplotlibDeprecationWarning: Non-1D inputs to pie() are currently squeeze()d, but this behavior is deprecated since 3.1 and will be removed in 3.3; pass a 1D array instead.\n"
          ],
          "name": "stderr"
        },
        {
          "output_type": "display_data",
          "data": {
            "image/png": "[encoded data removed]",
            "text/plain": [
              "<Figure size 576x360 with 2 Axes>"
            ]
          },
          "metadata": {
            "tags": []
          }
        }
      ]
    },
    {
      "cell_type": "code",
      "metadata": {
        "colab": {
          "base_uri": "https://localhost:8080/",
          "height": 545
        },
        "id": "chRNHjRP6oFk",
        "outputId": "b3632382-5cb7-40d9-b268-92b8388638de"
      },
      "source": [
        "x = ['BOY Proficiency', 'EOY Proficiency']\n",
        "ch5 = ch5b.dropna(subset=['School Name', 'Grade Level'])\n",
        "ch6 = ch6b.dropna(subset=['School Name', 'Grade Level'])\n",
        "b5 = b5b.dropna(subset=['School Name', 'Grade Level'])\n",
        "b6 = b6b.dropna(subset=['School Name', 'Grade Level'])\n",
        "\n",
        "ych5 = [ch5['BOY Proficiency'].mean(), ch5['EOY Proficiency'].mean()]\n",
        "yb5 = [b5['BOY Proficiency'].mean(), b5['EOY Proficiency'].mean()]\n",
        "\n",
        "plt.plot(x, ych5, label='Crown Heights Middle School')\n",
        "plt.plot(x, yb5, label='Bushwick Middle School')\n",
        "plt.title('Average Change in Proficiency for 5th graders')\n",
        "plt.legend()\n",
        "plt.show()\n",
        "\n",
        "ych6 = [ch6['BOY Proficiency'].mean(), ch6['EOY Proficiency'].mean()]\n",
        "yb6 = [b6['BOY Proficiency'].mean(), b6['EOY Proficiency'].mean()]\n",
        "\n",
        "plt.plot(x, ych6, label='Crown Heights Middle School')\n",
        "plt.plot(x, yb6, label='Bushwick Middle School')\n",
        "plt.title('Average Change in Proficiency for 6th graders')\n",
        "plt.legend()\n",
        "plt.show()"
      ],
      "execution_count": 395,
      "outputs": [
        {
          "output_type": "display_data",
          "data": {
            "image/png": "[encoded data removed]",
            "text/plain": [
              "<Figure size 432x288 with 1 Axes>"
            ]
          },
          "metadata": {
            "tags": [],
            "needs_background": "light"
          }
        },
        {
          "output_type": "display_data",
          "data": {
            "image/png": "[encoded data removed]",
            "text/plain": [
              "<Figure size 432x288 with 1 Axes>"
            ]
          },
          "metadata": {
            "tags": [],
            "needs_background": "light"
          }
        }
      ]
    },
    {
      "cell_type": "code",
      "metadata": {
        "colab": {
          "base_uri": "https://localhost:8080/",
          "height": 1000
        },
        "id": "nAJve3g_FEGy",
        "outputId": "15d07429-5c95-45a5-b25e-899df95dcfe3"
      },
      "source": [
        "import seaborn as sns\n",
        "sns.countplot(x='Proficiency Change', data=ch5)\n",
        "plt.title('Change in Proficiency for Indivdual 5th grader at Crown Heights Middle School')\n",
        "plt.show()\n",
        "\n",
        "sns.countplot(x='Proficiency Change', data=b5)\n",
        "plt.title('Change in Proficiency for Indivdual 5th grader at Bushwick Middle School')\n",
        "plt.show()\n",
        "\n",
        "sns.countplot(x='Proficiency Change', data=ch6)\n",
        "plt.title('Change in Proficiency for Indivdual 6th grader at Crown Heights Middle School')\n",
        "plt.show()\n",
        "\n",
        "sns.countplot(x='Proficiency Change', data=b6)\n",
        "plt.title('Change in Proficiency for Indivdual 6th grader at Bushwick Middle School')\n",
        "plt.show()"
      ],
      "execution_count": 407,
      "outputs": [
        {
          "output_type": "display_data",
          "data": {
            "image/png": "[encoded data removed]",
            "text/plain": [
              "<Figure size 432x288 with 1 Axes>"
            ]
          },
          "metadata": {
            "tags": [],
            "needs_background": "light"
          }
        },
        {
          "output_type": "display_data",
          "data": {
            "image/png": "[encoded data removed]",
            "text/plain": [
              "<Figure size 432x288 with 1 Axes>"
            ]
          },
          "metadata": {
            "tags": [],
            "needs_background": "light"
          }
        },
        {
          "output_type": "display_data",
          "data": {
            "image/png": "[encoded data removed]",
            "text/plain": [
              "<Figure size 432x288 with 1 Axes>"
            ]
          },
          "metadata": {
            "tags": [],
            "needs_background": "light"
          }
        },
        {
          "output_type": "display_data",
          "data": {
            "image/png": "[encoded data removed]",
            "text/plain": [
              "<Figure size 432x288 with 1 Axes>"
            ]
          },
          "metadata": {
            "tags": [],
            "needs_background": "light"
          }
        }
      ]
    }
  ]
}